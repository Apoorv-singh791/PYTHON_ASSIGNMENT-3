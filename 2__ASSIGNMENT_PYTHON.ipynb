{
 "cells": [
  {
   "cell_type": "markdown",
   "id": "d428d81d-8d2e-4d97-84c0-29fdea2139dc",
   "metadata": {},
   "source": [
    "Q1.How do you comment code in Python? What are the different types of comments?"
   ]
  },
  {
   "cell_type": "markdown",
   "id": "a63c3551-45fb-4030-9343-1d224b1c65e1",
   "metadata": {},
   "source": [
    "A1. We can comment a code in python by the use of #,it is use only for single line comment it means only one line will become comment by use of # and there is a short cut key for # which is ctrl+/ . There is another type of comment in python which is know as multiline comment and we use (''' , \"\"\" )\n",
    "for the multiline comment ,by the use of these symbols we can make multiple line a comment."
   ]
  },
  {
   "cell_type": "markdown",
   "id": "e919ea9c-e257-4989-9dc3-41f06890274e",
   "metadata": {},
   "source": [
    "Q2. What are variables in Python? How do you declare and assign values to variables?"
   ]
  },
  {
   "cell_type": "markdown",
   "id": "2fac4d18-18f9-4f18-95c4-906af699951b",
   "metadata": {},
   "source": [
    "A2. Every value in Python has a datatype. Variables are created when we assign a value to them. we don’t need to declare variables in advance as compared to other programming languages.To assign a value to a variable in Python, we just use the equals sign (=) and the data which will we on the right side of the equal sign will be stored in the variable which will be present on the left side of the variable."
   ]
  },
  {
   "cell_type": "markdown",
   "id": "c3450bde-6b24-40ee-8c64-5cd104f46323",
   "metadata": {},
   "source": [
    "Q3. How do you convert one data type to another in Python?"
   ]
  },
  {
   "cell_type": "markdown",
   "id": "05e39175-ac2a-4f69-b5b5-eccb4b45effb",
   "metadata": {},
   "source": [
    "A3. We can convert one data type to another using type conversion or type casting . There are two types of type conversion in Python: implicit type conversion and explicit type conversion.Implicit type conversion is when Python automatically converts one data type to another. For example, if you add an integer and a float, Python will automatically convert the integer to a float before performing the additionand in Explicit type casting the type conversion is done by the user for example : if the given data is in intiger data type then we can convert it in float data type like :            a=5,                                                                                                                                                    float(a)"
   ]
  },
  {
   "cell_type": "markdown",
   "id": "1446a182-939f-4bea-bf5f-50368d3190d6",
   "metadata": {},
   "source": [
    "Q4. How do you write and execute a Python script from the command line?"
   ]
  },
  {
   "cell_type": "markdown",
   "id": "f7a2c870-69cd-45a6-9c3f-f6ee6ba85813",
   "metadata": {},
   "source": [
    "A4.To write and execute a Python script from the command line, you’ll need to follow these steps:\n"
   ]
  },
  {
   "cell_type": "markdown",
   "id": "0a144486-677b-4aeb-aad8-b0397920fa20",
   "metadata": {},
   "source": [
    "1:Open a text editor and write your Python code.\n"
   ]
  },
  {
   "cell_type": "markdown",
   "id": "06dfa30c-7587-4e02-98c6-0ae3d28f2d9c",
   "metadata": {},
   "source": [
    "2:Save the file with a .py extension.\n"
   ]
  },
  {
   "cell_type": "markdown",
   "id": "6bb8c1a4-b00a-4d8a-b441-3a382830e0f4",
   "metadata": {},
   "source": [
    "3:Open a command prompt or terminal window.\n"
   ]
  },
  {
   "cell_type": "markdown",
   "id": "116aa37a-4316-40ba-aa71-e102ecf47f02",
   "metadata": {},
   "source": [
    "4:Navigate to the directory where you saved your Python file.\n"
   ]
  },
  {
   "cell_type": "markdown",
   "id": "56210b55-6641-4633-8788-acc4ededdf31",
   "metadata": {},
   "source": [
    "5:Type python filename.py and press Enter."
   ]
  },
  {
   "cell_type": "markdown",
   "id": "eb4ebe41-f1dd-4367-92c0-d9fabe24391c",
   "metadata": {},
   "source": [
    "Q5. Given a list my_list = [1, 2, 3, 4, 5], write the code to slice the list and obtain the sub-list [2, 3]."
   ]
  },
  {
   "cell_type": "markdown",
   "id": "7b8a1284-7ead-48bd-b947-050cc8b0c3cf",
   "metadata": {},
   "source": [
    "ANSWER 5 :\n",
    "    "
   ]
  },
  {
   "cell_type": "code",
   "execution_count": 2,
   "id": "e3f0794d-e544-4055-89a8-0f228aa2a236",
   "metadata": {},
   "outputs": [
    {
     "name": "stdout",
     "output_type": "stream",
     "text": [
      "[2, 3]\n"
     ]
    }
   ],
   "source": [
    "my_list=[1,2,3,4,5]\n",
    "print(my_list[1:3])"
   ]
  },
  {
   "cell_type": "markdown",
   "id": "3c389f01-75d5-4497-ae5d-e3c8a2a2e4af",
   "metadata": {},
   "source": [
    "Q6. What is a complex number in mathematics, and how is it represented in Python?\n"
   ]
  },
  {
   "cell_type": "markdown",
   "id": "e47a36d8-606d-4041-9349-9553c201fae5",
   "metadata": {},
   "source": [
    "A6.In mathematicsa complex number is a number that can be expressed in the form of a + bi, where a and b are real numbers and i is the imaginary unit.\n",
    "In python we can represent complex numberin the form of a + bj where a is the real part and b is the imagenary part."
   ]
  },
  {
   "cell_type": "markdown",
   "id": "4f57a089-d7ec-4a83-8fbc-730375436756",
   "metadata": {},
   "source": [
    "Q7. What is the correct way to declare a variable named age and assign the value 25 to it?"
   ]
  },
  {
   "cell_type": "markdown",
   "id": "70639425-9fca-44ee-b689-2add8ae7c4c4",
   "metadata": {},
   "source": [
    "A7. To declare a variable names we just need to write the variale name on the left side of the = and the value 25 on the right side of equals to sign "
   ]
  },
  {
   "cell_type": "code",
   "execution_count": 4,
   "id": "8daa4a50-1295-45cc-9e08-b249cc236643",
   "metadata": {},
   "outputs": [],
   "source": [
    "age=25"
   ]
  },
  {
   "cell_type": "markdown",
   "id": "5b317733-e0b5-4e7e-9b02-e86425836f4c",
   "metadata": {},
   "source": [
    "Q8. Declare a variable named price and assign the value 9.99 to it. What data type does this variable\n",
    "belong to?"
   ]
  },
  {
   "cell_type": "markdown",
   "id": "7c89431d-4367-4cbb-b0e5-41d090319149",
   "metadata": {},
   "source": [
    "ANSWER 8:"
   ]
  },
  {
   "cell_type": "code",
   "execution_count": 8,
   "id": "c078e02d-f679-42f6-8b3f-2eb718916a38",
   "metadata": {},
   "outputs": [
    {
     "name": "stdout",
     "output_type": "stream",
     "text": [
      "<class 'float'>\n"
     ]
    }
   ],
   "source": [
    "price=9.99\n",
    "print(type(price))"
   ]
  },
  {
   "cell_type": "markdown",
   "id": "df29d271-a8e3-44e7-b9e4-a05e31c459db",
   "metadata": {},
   "source": [
    "the variale price belongs to float datatype."
   ]
  },
  {
   "cell_type": "markdown",
   "id": "73a21e08-6050-4c47-a5f1-e9c198a34b10",
   "metadata": {},
   "source": [
    "Q9. Create a variable named name and assign your full name to it as a string. How would you print the\n",
    "value of this variable?"
   ]
  },
  {
   "cell_type": "markdown",
   "id": "4e9b17fd-abd0-4cdd-94e7-efd61b1aa86f",
   "metadata": {},
   "source": [
    "A9.we will print value of name variable by the use of print function,by passing the varriable name inside it."
   ]
  },
  {
   "cell_type": "code",
   "execution_count": 11,
   "id": "cb1b6470-e626-42b0-81ac-6f6ba3c048f6",
   "metadata": {},
   "outputs": [
    {
     "name": "stdout",
     "output_type": "stream",
     "text": [
      "APOORV SINGH\n"
     ]
    }
   ],
   "source": [
    "name=\"APOORV SINGH\"\n",
    "print(name)"
   ]
  },
  {
   "cell_type": "markdown",
   "id": "2601db6d-f35e-4205-bf5f-9d790275d850",
   "metadata": {},
   "source": [
    "Q10. Given the string \"Hello, World!\", extract the substring \"World\"."
   ]
  },
  {
   "cell_type": "markdown",
   "id": "cc35c40b-b899-438c-b8dd-1f181591717b",
   "metadata": {},
   "source": [
    "ANSWER 10:"
   ]
  },
  {
   "cell_type": "code",
   "execution_count": 13,
   "id": "00703d3c-61f4-499d-a4e9-5c931f2d2432",
   "metadata": {},
   "outputs": [
    {
     "name": "stdout",
     "output_type": "stream",
     "text": [
      "World\n"
     ]
    }
   ],
   "source": [
    "a=\"Hello, World!\"\n",
    "print(a[7:12])"
   ]
  },
  {
   "cell_type": "markdown",
   "id": "2691c18a-7d77-4503-aa84-d3865f2096e1",
   "metadata": {},
   "source": [
    "Q11. Create a variable named \"is_student\" and assign it a boolean value indicating whether you are\n",
    "currently a student or not."
   ]
  },
  {
   "cell_type": "code",
   "execution_count": null,
   "id": "6c8aca2a-b5cd-44ae-b2b1-eda00520643a",
   "metadata": {},
   "outputs": [],
   "source": []
  },
  {
   "cell_type": "code",
   "execution_count": null,
   "id": "fa881fec-8216-4fc0-85f9-7b9c52c4ca32",
   "metadata": {},
   "outputs": [],
   "source": [
    "is_student=True"
   ]
  }
 ],
 "metadata": {
  "kernelspec": {
   "display_name": "Python 3 (ipykernel)",
   "language": "python",
   "name": "python3"
  },
  "language_info": {
   "codemirror_mode": {
    "name": "ipython",
    "version": 3
   },
   "file_extension": ".py",
   "mimetype": "text/x-python",
   "name": "python",
   "nbconvert_exporter": "python",
   "pygments_lexer": "ipython3",
   "version": "3.10.8"
  }
 },
 "nbformat": 4,
 "nbformat_minor": 5
}
